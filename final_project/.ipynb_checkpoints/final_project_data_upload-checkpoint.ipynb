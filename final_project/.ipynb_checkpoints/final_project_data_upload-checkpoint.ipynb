{
 "cells": [
  {
   "cell_type": "code",
   "execution_count": 73,
   "metadata": {
    "collapsed": true
   },
   "outputs": [],
   "source": [
    "import numpy as np\n",
    "import matplotlib.pyplot as plt\n",
    "import pandas as pd\n",
    "\n",
    "%matplotlib inline\n",
    "\n"
   ]
  },
  {
   "cell_type": "code",
   "execution_count": 74,
   "metadata": {
    "collapsed": false
   },
   "outputs": [],
   "source": [
    "data = pd.read_excel(\"data_test-1.xls\", header=26, skiprows=0)"
   ]
  },
  {
   "cell_type": "code",
   "execution_count": 75,
   "metadata": {
    "collapsed": false
   },
   "outputs": [
    {
     "data": {
      "text/html": [
       "<div>\n",
       "<table border=\"1\" class=\"dataframe\">\n",
       "  <thead>\n",
       "    <tr style=\"text-align: right;\">\n",
       "      <th></th>\n",
       "      <th>lease_ID</th>\n",
       "      <th>unit_number</th>\n",
       "      <th>merchant_type</th>\n",
       "      <th>unit_type</th>\n",
       "      <th>2014_area</th>\n",
       "      <th>2015_area</th>\n",
       "      <th>2015_mat $</th>\n",
       "      <th>2014_mat $</th>\n",
       "      <th>2015_month $</th>\n",
       "      <th>2015_month $.1</th>\n",
       "      <th>...</th>\n",
       "      <th>2015_annualised mat $ flag (lease status)</th>\n",
       "      <th>2015_annualised mat $</th>\n",
       "      <th>2015_total rent</th>\n",
       "      <th>2015_occupancy cost</th>\n",
       "      <th>2015_annualised oc%</th>\n",
       "      <th>2015_percentage rent passing</th>\n",
       "      <th>2015_occupancy cost select</th>\n",
       "      <th>2015_mat $ select</th>\n",
       "      <th>2015_mat $ psf select</th>\n",
       "      <th>2015_leasing revenue</th>\n",
       "    </tr>\n",
       "  </thead>\n",
       "  <tbody>\n",
       "    <tr>\n",
       "      <th>0</th>\n",
       "      <td>104671</td>\n",
       "      <td>12291 0083 Abercrombie &amp; Fitch</td>\n",
       "      <td>S132 US Teens Fashion</td>\n",
       "      <td>In-Line Units 0-9,999 SF</td>\n",
       "      <td>7962</td>\n",
       "      <td>7962</td>\n",
       "      <td>2655439.41</td>\n",
       "      <td>3021478.89</td>\n",
       "      <td>0</td>\n",
       "      <td>0</td>\n",
       "      <td>...</td>\n",
       "      <td>0</td>\n",
       "      <td>2655439.41</td>\n",
       "      <td>43127.50</td>\n",
       "      <td>68436.73</td>\n",
       "      <td>0.309094</td>\n",
       "      <td>0</td>\n",
       "      <td>820779.08</td>\n",
       "      <td>2655439.41</td>\n",
       "      <td>333.514118</td>\n",
       "      <td>59983.78</td>\n",
       "    </tr>\n",
       "    <tr>\n",
       "      <th>1</th>\n",
       "      <td>104680</td>\n",
       "      <td>12291 0084B Hollister</td>\n",
       "      <td>S132 US Teens Fashion</td>\n",
       "      <td>In-Line Units 0-9,999 SF</td>\n",
       "      <td>0</td>\n",
       "      <td>0</td>\n",
       "      <td>0.00</td>\n",
       "      <td>0.00</td>\n",
       "      <td>0</td>\n",
       "      <td>0</td>\n",
       "      <td>...</td>\n",
       "      <td>0</td>\n",
       "      <td>0.00</td>\n",
       "      <td>0.00</td>\n",
       "      <td>0.00</td>\n",
       "      <td>0.000000</td>\n",
       "      <td>0</td>\n",
       "      <td>0.00</td>\n",
       "      <td>0.00</td>\n",
       "      <td>0.000000</td>\n",
       "      <td>0.00</td>\n",
       "    </tr>\n",
       "    <tr>\n",
       "      <th>2</th>\n",
       "      <td>104680</td>\n",
       "      <td>12291 84B Hollister</td>\n",
       "      <td>S131 US Unisex Fashion</td>\n",
       "      <td>In-Line Units 0-9,999 SF</td>\n",
       "      <td>6953</td>\n",
       "      <td>6953</td>\n",
       "      <td>2263534.83</td>\n",
       "      <td>2340931.75</td>\n",
       "      <td>0</td>\n",
       "      <td>0</td>\n",
       "      <td>...</td>\n",
       "      <td>0</td>\n",
       "      <td>2263534.83</td>\n",
       "      <td>13916.82</td>\n",
       "      <td>40120.17</td>\n",
       "      <td>0.211935</td>\n",
       "      <td>0</td>\n",
       "      <td>479722.45</td>\n",
       "      <td>2263534.83</td>\n",
       "      <td>325.547940</td>\n",
       "      <td>31788.72</td>\n",
       "    </tr>\n",
       "    <tr>\n",
       "      <th>3</th>\n",
       "      <td>104734</td>\n",
       "      <td>12291 2034 Aldo</td>\n",
       "      <td>S231 US Family Shoes</td>\n",
       "      <td>In-Line Units 0-9,999 SF</td>\n",
       "      <td>2375</td>\n",
       "      <td>2375</td>\n",
       "      <td>1314814.25</td>\n",
       "      <td>1260494.49</td>\n",
       "      <td>0</td>\n",
       "      <td>0</td>\n",
       "      <td>...</td>\n",
       "      <td>0</td>\n",
       "      <td>1314814.25</td>\n",
       "      <td>16232.33</td>\n",
       "      <td>23892.98</td>\n",
       "      <td>0.216756</td>\n",
       "      <td>0</td>\n",
       "      <td>284993.55</td>\n",
       "      <td>1314814.25</td>\n",
       "      <td>553.606000</td>\n",
       "      <td>20971.22</td>\n",
       "    </tr>\n",
       "    <tr>\n",
       "      <th>4</th>\n",
       "      <td>104761</td>\n",
       "      <td>12291 0056 American Eagle Outfitters</td>\n",
       "      <td>S132 US Teens Fashion</td>\n",
       "      <td>In-Line Units 0-9,999 SF</td>\n",
       "      <td>7429</td>\n",
       "      <td>7429</td>\n",
       "      <td>2194684.00</td>\n",
       "      <td>1835226.23</td>\n",
       "      <td>0</td>\n",
       "      <td>0</td>\n",
       "      <td>...</td>\n",
       "      <td>0</td>\n",
       "      <td>2194684.00</td>\n",
       "      <td>41218.58</td>\n",
       "      <td>64297.94</td>\n",
       "      <td>0.349996</td>\n",
       "      <td>0</td>\n",
       "      <td>768129.68</td>\n",
       "      <td>2194684.00</td>\n",
       "      <td>295.421187</td>\n",
       "      <td>53583.03</td>\n",
       "    </tr>\n",
       "  </tbody>\n",
       "</table>\n",
       "<p>5 rows × 35 columns</p>\n",
       "</div>"
      ],
      "text/plain": [
       "   lease_ID                           unit_number           merchant_type  \\\n",
       "0    104671        12291 0083 Abercrombie & Fitch   S132 US Teens Fashion   \n",
       "1    104680                 12291 0084B Hollister   S132 US Teens Fashion   \n",
       "2    104680                   12291 84B Hollister  S131 US Unisex Fashion   \n",
       "3    104734                       12291 2034 Aldo    S231 US Family Shoes   \n",
       "4    104761  12291 0056 American Eagle Outfitters   S132 US Teens Fashion   \n",
       "\n",
       "                  unit_type  2014_area  2015_area  2015_mat $  2014_mat $  \\\n",
       "0  In-Line Units 0-9,999 SF       7962       7962  2655439.41  3021478.89   \n",
       "1  In-Line Units 0-9,999 SF          0          0        0.00        0.00   \n",
       "2  In-Line Units 0-9,999 SF       6953       6953  2263534.83  2340931.75   \n",
       "3  In-Line Units 0-9,999 SF       2375       2375  1314814.25  1260494.49   \n",
       "4  In-Line Units 0-9,999 SF       7429       7429  2194684.00  1835226.23   \n",
       "\n",
       "   2015_month $  2015_month $.1          ...           \\\n",
       "0             0               0          ...            \n",
       "1             0               0          ...            \n",
       "2             0               0          ...            \n",
       "3             0               0          ...            \n",
       "4             0               0          ...            \n",
       "\n",
       "   2015_annualised mat $ flag (lease status)  2015_annualised mat $  \\\n",
       "0                                          0             2655439.41   \n",
       "1                                          0                   0.00   \n",
       "2                                          0             2263534.83   \n",
       "3                                          0             1314814.25   \n",
       "4                                          0             2194684.00   \n",
       "\n",
       "   2015_total rent  2015_occupancy cost  2015_annualised oc%  \\\n",
       "0         43127.50             68436.73             0.309094   \n",
       "1             0.00                 0.00             0.000000   \n",
       "2         13916.82             40120.17             0.211935   \n",
       "3         16232.33             23892.98             0.216756   \n",
       "4         41218.58             64297.94             0.349996   \n",
       "\n",
       "   2015_percentage rent passing  2015_occupancy cost select  \\\n",
       "0                             0                   820779.08   \n",
       "1                             0                        0.00   \n",
       "2                             0                   479722.45   \n",
       "3                             0                   284993.55   \n",
       "4                             0                   768129.68   \n",
       "\n",
       "   2015_mat $ select  2015_mat $ psf select  2015_leasing revenue  \n",
       "0         2655439.41             333.514118              59983.78  \n",
       "1               0.00               0.000000                  0.00  \n",
       "2         2263534.83             325.547940              31788.72  \n",
       "3         1314814.25             553.606000              20971.22  \n",
       "4         2194684.00             295.421187              53583.03  \n",
       "\n",
       "[5 rows x 35 columns]"
      ]
     },
     "execution_count": 75,
     "metadata": {},
     "output_type": "execute_result"
    }
   ],
   "source": [
    "data.head()\n"
   ]
  },
  {
   "cell_type": "code",
   "execution_count": 85,
   "metadata": {
    "collapsed": false
   },
   "outputs": [
    {
     "data": {
      "text/plain": [
       "<matplotlib.axes._subplots.AxesSubplot at 0x10bd16cc0>"
      ]
     },
     "execution_count": 85,
     "metadata": {},
     "output_type": "execute_result"
    },
    {
     "data": {
      "image/png": "[encoded data removed]",
      "text/plain": [
       "<matplotlib.figure.Figure at 0x107779470>"
      ]
     },
     "metadata": {},
     "output_type": "display_data"
    }
   ],
   "source": [
    "merchant_types = data.groupby(['merchant_type'])['2015_area'].sum()\n",
    "merchant_types.plot(color='r', marker='o', figsize=(50, 8))"
   ]
  },
  {
   "cell_type": "code",
   "execution_count": 59,
   "metadata": {
    "collapsed": false
   },
   "outputs": [
    {
     "data": {
      "text/plain": [
       "<bound method Series.plot_series of 0                     S132 US Teens Fashion\n",
       "1                     S132 US Teens Fashion\n",
       "2                    S131 US Unisex Fashion\n",
       "3                      S231 US Family Shoes\n",
       "4                     S132 US Teens Fashion\n",
       "5                   S521 US Beauty & Health\n",
       "6                      SF21 US Food Service\n",
       "7                     S211 US Women's Shoes\n",
       "8                     S211 US Women's Shoes\n",
       "9                          Z111 US Not used\n",
       "10                  S111 US Women's Fashion\n",
       "11                  S111 US Women's Fashion\n",
       "12              S153 US Fashion Accessories\n",
       "13        S472 US Gifts, Cards & Stationery\n",
       "14        S472 US Gifts, Cards & Stationery\n",
       "15                   S131 US Unisex Fashion\n",
       "16                  S521 US Beauty & Health\n",
       "17                  S111 US Women's Fashion\n",
       "18                       SF31 US Restaurant\n",
       "19                       SF31 US Restaurant\n",
       "20                    S211 US Women's Shoes\n",
       "21                       SF11 US Food Court\n",
       "22      S141 US Clothing Sundry - Childrens\n",
       "23      S141 US Clothing Sundry - Childrens\n",
       "24              S153 US Fashion Accessories\n",
       "25              S153 US Fashion Accessories\n",
       "26      S141 US Clothing Sundry - Childrens\n",
       "27                     S311 US Fine Jewelry\n",
       "28                  S521 US Beauty & Health\n",
       "29               S441 US Sports Specialties\n",
       "                       ...                 \n",
       "2395                S521 US Beauty & Health\n",
       "2396                S521 US Beauty & Health\n",
       "2397             S441 US Sports Specialties\n",
       "2398             S441 US Sports Specialties\n",
       "2399             S441 US Sports Specialties\n",
       "2400             S441 US Sports Specialties\n",
       "2401                   SF21 US Food Service\n",
       "2402                   SF21 US Food Service\n",
       "2403                   SF21 US Food Service\n",
       "2404                   PP96 US In-line (MM)\n",
       "2405                S111 US Women's Fashion\n",
       "2406                   PP96 US In-line (MM)\n",
       "2407                S521 US Beauty & Health\n",
       "2408            S153 US Fashion Accessories\n",
       "2409                   SF21 US Food Service\n",
       "2410                  S211 US Women's Shoes\n",
       "2411                   SF21 US Food Service\n",
       "2412                      M166 US Nordstrom\n",
       "2413                 S131 US Unisex Fashion\n",
       "2414                 S131 US Unisex Fashion\n",
       "2415                     SF31 US Restaurant\n",
       "2416                S521 US Beauty & Health\n",
       "2417                S521 US Beauty & Health\n",
       "2418      S472 US Gifts, Cards & Stationery\n",
       "2419                 S832 US Service Trades\n",
       "2420                 S832 US Service Trades\n",
       "2421                  S211 US Women's Shoes\n",
       "2422      S472 US Gifts, Cards & Stationery\n",
       "2423           S491 US Miscellaneous Trades\n",
       "2424                   S231 US Family Shoes\n",
       "Name: merchant_type, dtype: object>"
      ]
     },
     "execution_count": 59,
     "metadata": {},
     "output_type": "execute_result"
    }
   ],
   "source": [
    "data['merchant_type'].plot"
   ]
  },
  {
   "cell_type": "code",
   "execution_count": null,
   "metadata": {
    "collapsed": false
   },
   "outputs": [],
   "source": []
  },
  {
   "cell_type": "code",
   "execution_count": null,
   "metadata": {
    "collapsed": true
   },
   "outputs": [],
   "source": []
  }
 ],
 "metadata": {
  "kernelspec": {
   "display_name": "Python 3",
   "language": "python",
   "name": "python3"
  },
  "language_info": {
   "codemirror_mode": {
    "name": "ipython",
    "version": 3
   },
   "file_extension": ".py",
   "mimetype": "text/x-python",
   "name": "python",
   "nbconvert_exporter": "python",
   "pygments_lexer": "ipython3",
   "version": "3.4.3"
  }
 },
 "nbformat": 4,
 "nbformat_minor": 0
}
