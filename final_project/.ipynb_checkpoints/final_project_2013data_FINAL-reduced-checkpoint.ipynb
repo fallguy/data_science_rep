{
 "cells": [
  {
   "cell_type": "markdown",
   "metadata": {},
   "source": [
    "# At-Risk Tenant Default Prediction Algorithm"
   ]
  },
  {
   "cell_type": "code",
   "execution_count": 53,
   "metadata": {
    "collapsed": false
   },
   "outputs": [],
   "source": [
    "# importing open source libraries\n",
    "import pandas as pd\n",
    "import numpy as np\n",
    "import matplotlib.pyplot as plt\n",
    "\n",
    "%matplotlib inline\n",
    "\n"
   ]
  },
  {
   "cell_type": "code",
   "execution_count": 5,
   "metadata": {
    "collapsed": true
   },
   "outputs": [],
   "source": [
    "# warning bypass error code for sklearn\n",
    "import warnings\n",
    "warnings.filterwarnings(\"ignore\", category=DeprecationWarning)"
   ]
  },
  {
   "cell_type": "code",
   "execution_count": 6,
   "metadata": {
    "collapsed": false
   },
   "outputs": [],
   "source": [
    "# data = pd.read_excel(\"data_test-1.xls\", header=26, skiprows=0)\n",
    "raw_data = pd.read_excel(\"python_data_2013.xls\")\n",
    "data = raw_data.copy()\n"
   ]
  },
  {
   "cell_type": "code",
   "execution_count": 7,
   "metadata": {
    "collapsed": false
   },
   "outputs": [
    {
     "data": {
      "text/plain": [
       "(3174, 254)"
      ]
     },
     "execution_count": 7,
     "metadata": {},
     "output_type": "execute_result"
    }
   ],
   "source": [
    "data.shape"
   ]
  },
  {
   "cell_type": "markdown",
   "metadata": {},
   "source": [
    "## Cleaning Data"
   ]
  },
  {
   "cell_type": "code",
   "execution_count": 8,
   "metadata": {
    "collapsed": false
   },
   "outputs": [],
   "source": [
    "data = data.dropna(axis=1, how='all').dropna(axis=0, how='all')"
   ]
  },
  {
   "cell_type": "code",
   "execution_count": 9,
   "metadata": {
    "collapsed": false
   },
   "outputs": [],
   "source": [
    "# removing any unnamed columns\n",
    "for col in data.columns:\n",
    "    if 'Unnamed' in col:\n",
    "        del data[col]"
   ]
  },
  {
   "cell_type": "code",
   "execution_count": 10,
   "metadata": {
    "collapsed": false
   },
   "outputs": [
    {
     "data": {
      "text/plain": [
       "(3174, 237)"
      ]
     },
     "execution_count": 10,
     "metadata": {},
     "output_type": "execute_result"
    }
   ],
   "source": [
    "data.shape"
   ]
  },
  {
   "cell_type": "code",
   "execution_count": 11,
   "metadata": {
    "collapsed": false
   },
   "outputs": [
    {
     "data": {
      "text/plain": [
       "(1105, 237)"
      ]
     },
     "execution_count": 11,
     "metadata": {},
     "output_type": "execute_result"
    }
   ],
   "source": [
    "data = data[data['MAT $ 2011'] != 0]\n",
    "data = data[data['MAT $ 2012'] != 0]\n",
    "data = data[data['MAT $ 2013'] != 0]\n",
    "data.shape"
   ]
  },
  {
   "cell_type": "markdown",
   "metadata": {},
   "source": [
    "## Adding Features"
   ]
  },
  {
   "cell_type": "code",
   "execution_count": 12,
   "metadata": {
    "collapsed": true
   },
   "outputs": [],
   "source": [
    "# mean of occ cost % over 3 years\n",
    "data['avg_occ_3yrs'] = data[['MAT Occ Cost % 2011', 'MAT Occ Cost % 2012', \\\n",
    "                                     'MAT Occ Cost % 2013']].apply(np.sum, axis=1)/3"
   ]
  },
  {
   "cell_type": "code",
   "execution_count": 13,
   "metadata": {
    "collapsed": true
   },
   "outputs": [],
   "source": [
    "imp_feat_list = ['Lease', 'MAT $ CAGR ', 'MAT $ (mo. slope) ', 'avg_occ_3yrs', 'MAT $ PSF Var_Avg ', 'MAT $ PSF Var_slope ', \\\n",
    "                'MAT Occ Cost % (slope) ', 'MAT Occ Cost % CAGR ', 'MAT Occ Cost % CAGR to MAT $ Var ', 'MAT Occ Cost %_Avg_Var _2013',\\\n",
    "                'MAT Occ Cost %_1yr_slope _', 'MAT Occ Cost %_2yr_slope _', 'Month $ PSF % Var_1yr_avg _', 'Month $ PSF % Var_2yr_avg _',\\\n",
    "                'Month $ PSF % Var (1 yr. slope) _', 'Month $ PSF % Var (2 yr. slope) _', 'Non-Holiday Month % Var _2013', \\\n",
    "                'Holiday Month % Var _2013', 'Lease Term (mo.)', 'AR_Past_Due_MAX', 'AR_% of Billings Owed_MAX', \\\n",
    "                'AR_61 - 90_MAX', 'AR_Over 90_MAX', 'AR_2monthover_MAX','National Tenant Flag-Calc','Multi-Tenant Tag (>2)', 'Defaulted']"
   ]
  },
  {
   "cell_type": "markdown",
   "metadata": {},
   "source": [
    "### Parsing Out Inline Tenants"
   ]
  },
  {
   "cell_type": "code",
   "execution_count": 14,
   "metadata": {
    "collapsed": false
   },
   "outputs": [
    {
     "data": {
      "text/plain": [
       "array([\"S111 US Women's Fashion\", 'S521 US Beauty & Health',\n",
       "       'S491 US Miscellaneous Trades', 'S484 US Electronics & Photo',\n",
       "       'S231 US Family Shoes', 'S131 US Unisex Fashion',\n",
       "       \"S211 US Women's Shoes\", 'S311 US Fine Jewelry',\n",
       "       'S441 US Sports Specialties', 'S451 US Toys, Tobacco and Pets',\n",
       "       'S832 US Service Trades', 'S486 US Cellular phones',\n",
       "       'S141 US Clothing Sundry - Childrens',\n",
       "       'S472 US Gifts, Cards & Stationery', \"S221 US Men's Shoes\",\n",
       "       'S132 US Teens Fashion', 'S121 US Fashion Men',\n",
       "       'S153 US Fashion Accessories', 'S596 US Housewares',\n",
       "       'S471 US Newsstands', 'S452 US Art Galleries', 'S431 US Music',\n",
       "       'S511 US General Trades', 'S492 US Auto Galleries',\n",
       "       'S321 US Jewelry Accessories', 'Z111 US Not used'], dtype=object)"
      ]
     },
     "execution_count": 14,
     "metadata": {},
     "output_type": "execute_result"
    }
   ],
   "source": [
    "INL_data = data[data['Lease Space Type-Calc'] == 'INL']\n",
    "# INL_data = INL_data[INL_data['Space Type'] == 'In-Line Units 0-9,999 SF']\n",
    "INL_data = INL_data[INL_data['National Tenant Flag-Calc'] == 0]\n",
    "INL_data = INL_data[INL_data['Multi-Tenant Tag (>2)'] == 0]  # represents tenants that have >2 locations\n",
    "\n",
    "INL_data['Product Category'].unique()"
   ]
  },
  {
   "cell_type": "markdown",
   "metadata": {},
   "source": [
    "#### Filtering Data by Product Category (must pick specific list)"
   ]
  },
  {
   "cell_type": "code",
   "execution_count": 15,
   "metadata": {
    "collapsed": true
   },
   "outputs": [],
   "source": [
    "# Product Category list\n",
    "Prodcat_fashion_list = [\"S111 US Women's Fashion\", \"S131 US Unisex Fashion\", \"S141 US Clothing Sundry - Childrens\",\\\n",
    "                        \"S132 US Teens Fashion\", \"S121 US Fashion Men\", \"S153 US Fashion Accessories\"] #,\\\"S321 US Jewelry Accessories\"]\n",
    "\n",
    "Prodcat_shoes_list = [\"S231 US Family Shoes=\", \"S211 US Women's Shoes\", \"S221 US Men's Shoes\"]\n",
    "\n",
    "Prodcat_beauty_list = [\"S521 US Beauty & Health\", \"S452 US Art Galleries\"]\n",
    "\n",
    "# Choose which \"Prodcats\" to be included in dataset\n",
    "INL_data = INL_data[INL_data['Product Category'] == \"S521 US Beauty & Health\"] #.isin(Prodcat_beauty_list)]"
   ]
  },
  {
   "cell_type": "code",
   "execution_count": 16,
   "metadata": {
    "collapsed": false
   },
   "outputs": [
    {
     "data": {
      "text/plain": [
       "S521 US Beauty & Health    54\n",
       "Name: Product Category, dtype: int64"
      ]
     },
     "execution_count": 16,
     "metadata": {},
     "output_type": "execute_result"
    }
   ],
   "source": [
    "INL_data['Product Category'].value_counts()"
   ]
  },
  {
   "cell_type": "markdown",
   "metadata": {},
   "source": [
    "### % of tenants that have defaulted within Inline dataset"
   ]
  },
  {
   "cell_type": "code",
   "execution_count": 17,
   "metadata": {
    "collapsed": false
   },
   "outputs": [
    {
     "name": "stdout",
     "output_type": "stream",
     "text": [
      "Number of leases in dataset:  54\n",
      "Number of defaulted leases in dataset:  7\n",
      "Percent of defaulted:  0.13%\n"
     ]
    }
   ],
   "source": [
    "INL_DEF_Tenants = INL_data[INL_data['Defaulted'] == 1]\n",
    "print(\"Number of leases in dataset: \", len(INL_data))\n",
    "print(\"Number of defaulted leases in dataset: \", len(INL_DEF_Tenants))\n",
    "default_percent = \"{:.2f}%\".format(len(INL_DEF_Tenants)/len(INL_data))  # percent of defaulted tenants in inline dataset\n",
    "print(\"Percent of defaulted: \", default_percent)"
   ]
  },
  {
   "cell_type": "code",
   "execution_count": 18,
   "metadata": {
    "collapsed": false
   },
   "outputs": [
    {
     "data": {
      "text/plain": [
       "S521 US Beauty & Health    7\n",
       "Name: Product Category, dtype: int64"
      ]
     },
     "execution_count": 18,
     "metadata": {},
     "output_type": "execute_result"
    }
   ],
   "source": [
    "# Which type of tenants default the most?\n",
    "INL_DEF_Tenants['Product Category'].value_counts()"
   ]
  },
  {
   "cell_type": "code",
   "execution_count": 19,
   "metadata": {
    "collapsed": false,
    "scrolled": true
   },
   "outputs": [
    {
     "name": "stdout",
     "output_type": "stream",
     "text": [
      "12311\n",
      "Greatest number of defaults per mall is 2\n"
     ]
    }
   ],
   "source": [
    "## sorts which malls have greatest number of defaults\n",
    "pop_mall_defs = INL_data['BU Number-E1'].max()\n",
    "print(pop_mall_defs)\n",
    "INL_data[INL_data['BU Number-E1'] == pop_mall_defs]\n",
    "print(\"Greatest number of defaults per mall is 2\")\n"
   ]
  },
  {
   "cell_type": "markdown",
   "metadata": {},
   "source": [
    "## Logistic Regression Analysis"
   ]
  },
  {
   "cell_type": "markdown",
   "metadata": {},
   "source": [
    "### SciKit Learn - Logistic Regression"
   ]
  },
  {
   "cell_type": "code",
   "execution_count": 20,
   "metadata": {
    "collapsed": false
   },
   "outputs": [],
   "source": [
    "# Import Logistic Regression & Linear regression libraries\n",
    "from sklearn.linear_model import LinearRegression\n",
    "from sklearn.linear_model import LogisticRegression\n",
    "from sklearn import cross_validation\n",
    "from sklearn.cross_validation import cross_val_score\n"
   ]
  },
  {
   "cell_type": "code",
   "execution_count": 21,
   "metadata": {
    "collapsed": false
   },
   "outputs": [],
   "source": [
    "## create data for logarithmic regression analysis\n",
    "# log_list choooses categories I want to include in analysis\n",
    "log_list = imp_feat_list\n",
    "log_data = INL_data[log_list].copy()  # make sure to make copy so it's more than reference\n",
    "log_data = log_data.drop('Lease', axis=1)  # drop lease from log_data\n",
    "log_data = log_data.dropna(axis=0)  # remove any blank values from dataframe"
   ]
  },
  {
   "cell_type": "code",
   "execution_count": 22,
   "metadata": {
    "collapsed": false
   },
   "outputs": [],
   "source": [
    "# print(log_data.corr())  # looks at r^2 between "
   ]
  },
  {
   "cell_type": "code",
   "execution_count": 23,
   "metadata": {
    "collapsed": false
   },
   "outputs": [],
   "source": [
    "log_data_X = log_data.drop('Defaulted', axis=1)  # remove defaulted column from dataframe\n",
    "log_X = log_data_X.values  # turn datatable into array\n",
    "log_y = log_data['Defaulted']  "
   ]
  },
  {
   "cell_type": "code",
   "execution_count": 24,
   "metadata": {
    "collapsed": false
   },
   "outputs": [
    {
     "data": {
      "text/plain": [
       "numpy.ndarray"
      ]
     },
     "execution_count": 24,
     "metadata": {},
     "output_type": "execute_result"
    }
   ],
   "source": [
    "type(log_X)"
   ]
  },
  {
   "cell_type": "code",
   "execution_count": 25,
   "metadata": {
    "collapsed": false
   },
   "outputs": [
    {
     "data": {
      "text/plain": [
       "LogisticRegression(C=1, class_weight=None, dual=False, fit_intercept=True,\n",
       "          intercept_scaling=1, max_iter=1000, multi_class='ovr', n_jobs=1,\n",
       "          penalty='l2', random_state=None, solver='liblinear', tol=0.0001,\n",
       "          verbose=0, warm_start=False)"
      ]
     },
     "execution_count": 25,
     "metadata": {},
     "output_type": "execute_result"
    }
   ],
   "source": [
    "# Fit logistic regression model\n",
    "X_train_log, X_test_log, y_train_log, y_test_log = cross_validation.train_test_split(log_X, log_y, test_size=.5, random_state=0)\n",
    "\n",
    "lr = LogisticRegression(C=1, max_iter=1000, penalty='l2')  #l1: lasso l2: ridge regression\n",
    "lr.fit(X_train_log, y_train_log)"
   ]
  },
  {
   "cell_type": "code",
   "execution_count": 26,
   "metadata": {
    "collapsed": false
   },
   "outputs": [
    {
     "data": {
      "text/plain": [
       "[(-0.55164737587236012, 'AR_2monthover_MAX'),\n",
       " (-0.3512001042567226, 'MAT $ PSF Var_slope '),\n",
       " (-0.26920637322267965, 'AR_% of Billings Owed_MAX'),\n",
       " (-0.18838205263307192, 'MAT Occ Cost %_Avg_Var _2013'),\n",
       " (-0.1170178986990083, 'MAT Occ Cost % (slope) '),\n",
       " (-0.07349130370695435, 'MAT Occ Cost % CAGR '),\n",
       " (-0.020202536280047444, 'Month $ PSF % Var (1 yr. slope) _'),\n",
       " (-0.0189317425680549, 'Lease Term (mo.)'),\n",
       " (-0.0069447082071009327, 'MAT Occ Cost %_2yr_slope _'),\n",
       " (-0.0061537936721540471, 'MAT Occ Cost %_1yr_slope _'),\n",
       " (-0.00037148919453825662, 'AR_61 - 90_MAX'),\n",
       " (-2.760081075046373e-05, 'AR_Past_Due_MAX'),\n",
       " (-6.197736527313348e-06, 'MAT $ (mo. slope) '),\n",
       " (0.0, 'Multi-Tenant Tag (>2)'),\n",
       " (0.0, 'National Tenant Flag-Calc'),\n",
       " (0.00018970642434329286, 'AR_Over 90_MAX'),\n",
       " (0.00044986933060611007, 'MAT $ CAGR '),\n",
       " (0.012147310337172205, 'MAT $ PSF Var_Avg '),\n",
       " (0.013196524186001776, 'avg_occ_3yrs'),\n",
       " (0.018556696208093703, 'Month $ PSF % Var (2 yr. slope) _'),\n",
       " (0.07394117303756044, 'MAT Occ Cost % CAGR to MAT $ Var '),\n",
       " (0.14632076535306104, 'Month $ PSF % Var_2yr_avg _'),\n",
       " (0.22524861429420509, 'Holiday Month % Var _2013'),\n",
       " (0.27117187694278322, 'Month $ PSF % Var_1yr_avg _'),\n",
       " (0.27909684473741903, 'Non-Holiday Month % Var _2013')]"
      ]
     },
     "execution_count": 26,
     "metadata": {},
     "output_type": "execute_result"
    }
   ],
   "source": [
    "lr.coef_\n",
    "sorted(list(zip(lr.coef_[0], log_data_X.columns)))  # pull most weighted coefficients with respective feature name"
   ]
  },
  {
   "cell_type": "code",
   "execution_count": 27,
   "metadata": {
    "collapsed": false
   },
   "outputs": [
    {
     "data": {
      "text/plain": [
       "array([ 1.        ,  0.88888889,  0.88888889])"
      ]
     },
     "execution_count": 27,
     "metadata": {},
     "output_type": "execute_result"
    }
   ],
   "source": [
    "cross_val_score(lr, X_test_log, y_test_log)  # compares results of model to actual results"
   ]
  },
  {
   "cell_type": "code",
   "execution_count": 28,
   "metadata": {
    "collapsed": false
   },
   "outputs": [
    {
     "data": {
      "text/plain": [
       "[(1.0, 1.0, 0.72563718393560961),\n",
       " (1.0, 1.0, 0.90178230592050779),\n",
       " (1.0, 0.0, 0.13825999308682041),\n",
       " (1.0, 0.0, 0.073703781249087275),\n",
       " (1.0, 1.0, 0.98120523055733755),\n",
       " (1.0, 0.0, 0.2273501190979324),\n",
       " (0.0, 0.0, 0.015376916234163091),\n",
       " (0.0, 1.0, 0.99908473811386134),\n",
       " (0.0, 0.0, 0.068465131954136074),\n",
       " (0.0, 0.0, 0.15680161770699549),\n",
       " (0.0, 0.0, 0.02053360600491257),\n",
       " (0.0, 0.0, 0.052951093211458584),\n",
       " (0.0, 0.0, 0.018531942577232542),\n",
       " (0.0, 0.0, 0.02766885400469031),\n",
       " (0.0, 0.0, 0.083527222123605291),\n",
       " (0.0, 0.0, 0.098275826283559659),\n",
       " (0.0, 0.0, 0.24837449030422573),\n",
       " (0.0, 1.0, 0.506932031261903),\n",
       " (0.0, 0.0, 0.029271750595272227),\n",
       " (0.0, 0.0, 0.040715589966513588),\n",
       " (0.0, 0.0, 0.034301624342021012),\n",
       " (0.0, 0.0, 0.16067305978899804),\n",
       " (0.0, 0.0, 0.05102093556931616),\n",
       " (0.0, 0.0, 0.034412693067945137),\n",
       " (0.0, 0.0, 0.038035038553495326),\n",
       " (0.0, 0.0, 0.037875372511248437),\n",
       " (0.0, 0.0, 0.23413001835403047),\n",
       " (0.0, 0.0, 0.014836350968180183),\n",
       " (0.0, 0.0, 0.033487945634270856),\n",
       " (0.0, 0.0, 0.030290799401774218),\n",
       " (0.0, 0.0, 0.076401072583470647),\n",
       " (0.0, 0.0, 0.086624947972212929),\n",
       " (0.0, 0.0, 0.028135841589893764),\n",
       " (0.0, 0.0, 0.096363795857351095),\n",
       " (0.0, 0.0, 0.059720116295804281),\n",
       " (0.0, 0.0, 0.016942994853018218),\n",
       " (0.0, 0.0, 0.052887024496512246),\n",
       " (0.0, 0.0, 0.085346621783582988),\n",
       " (0.0, 0.0, 0.15174359456726833),\n",
       " (0.0, 0.0, 0.028377014012637897),\n",
       " (1.0, 1.0, 0.90178230592050779),\n",
       " (0.0, 0.0, 0.38857463305761447),\n",
       " (0.0, 0.0, 0.20826597853710446),\n",
       " (0.0, 0.0, 0.057716224363330647),\n",
       " (0.0, 0.0, 0.078934343783680153),\n",
       " (0.0, 0.0, 0.11677829407877821),\n",
       " (0.0, 0.0, 0.14777246424644158),\n",
       " (0.0, 0.0, 0.14624651484874179),\n",
       " (0.0, 0.0, 0.021868589003688259),\n",
       " (0.0, 0.0, 0.18408710979303039),\n",
       " (0.0, 0.0, 0.070046603150862613),\n",
       " (0.0, 0.0, 0.035524128688608221),\n",
       " (0.0, 0.0, 0.020581217852557558),\n",
       " (0.0, 0.0, 0.022857608891835576)]"
      ]
     },
     "execution_count": 28,
     "metadata": {},
     "output_type": "execute_result"
    }
   ],
   "source": [
    "log_prob = lr.predict_proba(log_X)[:, 1]  # returns the probability\n",
    "# print(log_prob)\n",
    "log_pred_y = lr.predict(log_X)\n",
    "list(zip(log_y, log_pred_y, log_prob))"
   ]
  },
  {
   "cell_type": "markdown",
   "metadata": {},
   "source": [
    "## Random Forrest analysis"
   ]
  },
  {
   "cell_type": "code",
   "execution_count": 29,
   "metadata": {
    "collapsed": false
   },
   "outputs": [],
   "source": [
    "# import libraries\n",
    "\n",
    "from sklearn.ensemble import RandomForestClassifier\n",
    "# from sklearn.ensemble import DecisionTree\n",
    "from sklearn.tree import DecisionTreeClassifier\n",
    "# from sklearn import tree\n",
    "from sklearn.pipeline import Pipeline\n",
    "from sklearn.preprocessing import Imputer\n",
    "from sklearn import cross_validation\n",
    "from sklearn.cross_validation import cross_val_score\n",
    "from matplotlib import pyplot as plt\n",
    "\n",
    "\n",
    "\n",
    "# Set a random seed.\n",
    "rng = np.random.RandomState(0)\n",
    "\n",
    "## try out test, train split b/c high accuracy score"
   ]
  },
  {
   "cell_type": "code",
   "execution_count": 30,
   "metadata": {
    "collapsed": false
   },
   "outputs": [],
   "source": [
    "tree_list = imp_feat_list\n",
    "tree_data = INL_data[tree_list].copy()  # make sure to make copy so it's more than reference\n",
    "tree_data = tree_data.drop('Lease', axis=1)\n",
    "tree_data = tree_data.dropna(axis=0)\n",
    "tree_data_X = tree_data.drop('Defaulted', axis=1)\n"
   ]
  },
  {
   "cell_type": "code",
   "execution_count": 31,
   "metadata": {
    "collapsed": false
   },
   "outputs": [],
   "source": [
    "tree_X = tree_data_X.values\n",
    "tree_y = tree_data['Defaulted']\n",
    "# tree_data"
   ]
  },
  {
   "cell_type": "code",
   "execution_count": 32,
   "metadata": {
    "collapsed": false
   },
   "outputs": [],
   "source": [
    "# splitting data so as to avoid overfitting\n",
    "X_train_tree, X_test_tree, y_train_tree, y_test_tree = cross_validation.train_test_split(tree_X, \\\n",
    "                                                                                         tree_y, \\\n",
    "                                                                                         test_size=.5, \\\n",
    "                                                                                         random_state=1)"
   ]
  },
  {
   "cell_type": "code",
   "execution_count": 33,
   "metadata": {
    "collapsed": false
   },
   "outputs": [
    {
     "data": {
      "text/plain": [
       "RandomForestClassifier(bootstrap=True, class_weight=None, criterion='gini',\n",
       "            max_depth=None, max_features='auto', max_leaf_nodes=None,\n",
       "            min_samples_leaf=1, min_samples_split=2,\n",
       "            min_weight_fraction_leaf=0.0, n_estimators=500, n_jobs=1,\n",
       "            oob_score=False, random_state=None, verbose=0,\n",
       "            warm_start=False)"
      ]
     },
     "execution_count": 33,
     "metadata": {},
     "output_type": "execute_result"
    }
   ],
   "source": [
    "rf = RandomForestClassifier(n_estimators=500)\n",
    "# rf.fit(tree_X, tree_y)\n",
    "rf.fit(X_train_tree, y_train_tree)"
   ]
  },
  {
   "cell_type": "code",
   "execution_count": 34,
   "metadata": {
    "collapsed": false
   },
   "outputs": [
    {
     "data": {
      "text/plain": [
       "array([ 0.88888889,  0.88888889,  0.88888889])"
      ]
     },
     "execution_count": 34,
     "metadata": {},
     "output_type": "execute_result"
    }
   ],
   "source": [
    "# to research\n",
    "\n",
    "cross_val_score(rf, X_test_tree, y_test_tree)"
   ]
  },
  {
   "cell_type": "code",
   "execution_count": 35,
   "metadata": {
    "collapsed": false
   },
   "outputs": [],
   "source": [
    "tree_pred_y = rf.predict(tree_X)"
   ]
  },
  {
   "cell_type": "code",
   "execution_count": 36,
   "metadata": {
    "collapsed": false,
    "scrolled": true
   },
   "outputs": [
    {
     "data": {
      "text/plain": [
       "[(1.0, 1.0),\n",
       " (1.0, 1.0),\n",
       " (1.0, 0.0),\n",
       " (1.0, 0.0),\n",
       " (1.0, 1.0),\n",
       " (1.0, 1.0),\n",
       " (0.0, 0.0),\n",
       " (0.0, 0.0),\n",
       " (0.0, 0.0),\n",
       " (0.0, 0.0),\n",
       " (0.0, 0.0),\n",
       " (0.0, 0.0),\n",
       " (0.0, 0.0),\n",
       " (0.0, 0.0),\n",
       " (0.0, 0.0),\n",
       " (0.0, 0.0),\n",
       " (0.0, 0.0),\n",
       " (0.0, 0.0),\n",
       " (0.0, 0.0),\n",
       " (0.0, 0.0),\n",
       " (0.0, 0.0),\n",
       " (0.0, 1.0),\n",
       " (0.0, 0.0),\n",
       " (0.0, 0.0),\n",
       " (0.0, 0.0),\n",
       " (0.0, 0.0),\n",
       " (0.0, 0.0),\n",
       " (0.0, 0.0),\n",
       " (0.0, 0.0),\n",
       " (0.0, 0.0),\n",
       " (0.0, 0.0),\n",
       " (0.0, 0.0),\n",
       " (0.0, 0.0),\n",
       " (0.0, 0.0),\n",
       " (0.0, 0.0),\n",
       " (0.0, 0.0),\n",
       " (0.0, 0.0),\n",
       " (0.0, 0.0),\n",
       " (0.0, 0.0),\n",
       " (0.0, 1.0),\n",
       " (1.0, 1.0),\n",
       " (0.0, 0.0),\n",
       " (0.0, 0.0),\n",
       " (0.0, 0.0),\n",
       " (0.0, 0.0),\n",
       " (0.0, 0.0),\n",
       " (0.0, 0.0),\n",
       " (0.0, 0.0),\n",
       " (0.0, 0.0),\n",
       " (0.0, 0.0),\n",
       " (0.0, 0.0),\n",
       " (0.0, 0.0),\n",
       " (0.0, 0.0),\n",
       " (0.0, 0.0)]"
      ]
     },
     "execution_count": 36,
     "metadata": {},
     "output_type": "execute_result"
    }
   ],
   "source": [
    "list(zip(tree_y, tree_pred_y))"
   ]
  },
  {
   "cell_type": "markdown",
   "metadata": {},
   "source": [
    "## Find important classifiers"
   ]
  },
  {
   "cell_type": "code",
   "execution_count": 37,
   "metadata": {
    "collapsed": false
   },
   "outputs": [
    {
     "name": "stdout",
     "output_type": "stream",
     "text": [
      "Feature ranking:\n",
      "1. feature AR_Past_Due_MAX (0.165533)\n",
      "2. feature AR_Over 90_MAX (0.149393)\n",
      "3. feature Month $ PSF % Var (2 yr. slope) _ (0.065485)\n",
      "4. feature MAT $ PSF Var_Avg  (0.062651)\n",
      "5. feature MAT Occ Cost % CAGR  (0.060253)\n",
      "6. feature MAT $ CAGR  (0.055895)\n",
      "7. feature Month $ PSF % Var_2yr_avg _ (0.051672)\n",
      "8. feature Non-Holiday Month % Var _2013 (0.043023)\n",
      "9. feature Month $ PSF % Var_1yr_avg _ (0.041844)\n",
      "10. feature avg_occ_3yrs (0.033321)\n"
     ]
    }
   ],
   "source": [
    "# Thanks Tim for the references\n",
    "\n",
    "importances = rf.feature_importances_\n",
    "std = np.std([tree.feature_importances_ for tree in rf.estimators_],\n",
    "             axis=0)\n",
    "\n",
    "indices = np.argsort(importances)[::-1]\n",
    "\n",
    "# Print the feature ranking\n",
    "print(\"Feature ranking:\")\n",
    "\n",
    "\n",
    "# variables for graph input\n",
    "rand_imp_range = [1, 2, 3, 4, 5, 6, 7, 8, 9, 10]\n",
    "rand_imp_feats = []\n",
    "rand_imp_featnums = []\n",
    "\n",
    "for f in range(10):\n",
    "    \n",
    "    # appending feature names to rand_imp_feats list\n",
    "    feats = tree_data_X.columns[indices[f]]\n",
    "    rand_imp_feats.append(feats)\n",
    "    # appending feature values to rand_imp_featnums list\n",
    "    featnums = importances[indices[f]]\n",
    "    rand_imp_featnums.append(featnums)\n",
    "\n",
    "    print(\"%d. feature %s (%f)\" % (f + 1, tree_data_X.columns[indices[f]], importances[indices[f]]))"
   ]
  },
  {
   "cell_type": "code",
   "execution_count": 38,
   "metadata": {
    "collapsed": false,
    "scrolled": false
   },
   "outputs": [
    {
     "data": {
      "image/png": "[encoded data removed]",
      "text/plain": [
       "<matplotlib.figure.Figure at 0x10db0ba90>"
      ]
     },
     "metadata": {},
     "output_type": "display_data"
    }
   ],
   "source": [
    "# Plot the feature importances of the forest\n",
    "plt.figure(figsize=(20,10))\n",
    "plt.title(\"Feature importances\")\n",
    "plt.bar(rand_imp_range, rand_imp_featnums,\n",
    "       color=\"g\", align=\"center\")\n",
    "plt.xticks(rand_imp_range, rand_imp_feats, rotation=30, ha='right')\n",
    "plt.show()\n",
    "\n",
    "\n"
   ]
  },
  {
   "cell_type": "markdown",
   "metadata": {},
   "source": [
    "## PCA - Dimension Reduction"
   ]
  },
  {
   "cell_type": "code",
   "execution_count": 45,
   "metadata": {
    "collapsed": true
   },
   "outputs": [],
   "source": [
    "from sklearn.decomposition import PCA"
   ]
  },
  {
   "cell_type": "code",
   "execution_count": 46,
   "metadata": {
    "collapsed": false
   },
   "outputs": [],
   "source": [
    "pca_list = imp_feat_list\n",
    "pca_data = INL_data[pca_list].copy()  # make sure to make copy so it's more than reference\n",
    "pca_data = pca_data.drop('Lease', axis=1)\n",
    "pca_data = pca_data.dropna(axis=0)\n",
    "pca_data_X = pca_data.drop('Defaulted', axis=1)\n",
    "\n",
    "pca_X = pca_data_X.values\n",
    "pca_y = pca_data['Defaulted']\n"
   ]
  },
  {
   "cell_type": "code",
   "execution_count": 47,
   "metadata": {
    "collapsed": true
   },
   "outputs": [],
   "source": [
    "# create the model and fit the data\n",
    "pca = PCA(n_components=2)\n",
    "X_r = pca.fit(pca_X).transform(pca_X)"
   ]
  },
  {
   "cell_type": "code",
   "execution_count": 48,
   "metadata": {
    "collapsed": false
   },
   "outputs": [
    {
     "data": {
      "text/plain": [
       "array([ 0.643824  ,  0.29381758])"
      ]
     },
     "execution_count": 48,
     "metadata": {},
     "output_type": "execute_result"
    }
   ],
   "source": [
    "# first component explains how much data is available (not lost)\n",
    "pca.explained_variance_ratio_  "
   ]
  },
  {
   "cell_type": "code",
   "execution_count": 52,
   "metadata": {
    "collapsed": false
   },
   "outputs": [
    {
     "data": {
      "image/png": "[encoded data removed]",
      "text/plain": [
       "<matplotlib.figure.Figure at 0x10dc819b0>"
      ]
     },
     "metadata": {},
     "output_type": "display_data"
    }
   ],
   "source": [
    "plt.figure(figsize=(20,10))\n",
    "plt.xlim(-100000, 100000)\n",
    "plt.ylim(-50000, 50000)\n",
    "plt.scatter(X_r[:,0], X_r[:,1])\n",
    "\n",
    "\n",
    "default_tens = []\n",
    "for i, x in enumerate(pca_y):  #returns index in addition to the value of the index\n",
    "    if x == 1:\n",
    "#         print(X_r[i, 0], X_r[i, 1], pca_X[i])\n",
    "        plt.scatter(X_r[i, 0], X_r[i, 1], color='r')\n",
    " "
   ]
  },
  {
   "cell_type": "code",
   "execution_count": null,
   "metadata": {
    "collapsed": true
   },
   "outputs": [],
   "source": []
  }
 ],
 "metadata": {
  "kernelspec": {
   "display_name": "Python 3",
   "language": "python",
   "name": "python3"
  },
  "language_info": {
   "codemirror_mode": {
    "name": "ipython",
    "version": 3
   },
   "file_extension": ".py",
   "mimetype": "text/x-python",
   "name": "python",
   "nbconvert_exporter": "python",
   "pygments_lexer": "ipython3",
   "version": "3.5.1"
  }
 },
 "nbformat": 4,
 "nbformat_minor": 0
}
